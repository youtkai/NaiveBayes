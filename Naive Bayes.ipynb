{
 "cells": [
  {
   "cell_type": "raw",
   "id": "c7221c35",
   "metadata": {
    "_cell_guid": "b1076dfc-b9ad-4769-8c92-a6c4dae69d19",
    "_uuid": "8f2839f25d086af736a60e9eeb907d3b93b6e0e5",
    "execution": {
     "iopub.execute_input": "2023-05-28T20:31:30.891319Z",
     "iopub.status.busy": "2023-05-28T20:31:30.890942Z",
     "iopub.status.idle": "2023-05-28T20:31:30.907125Z",
     "shell.execute_reply": "2023-05-28T20:31:30.905289Z"
    },
    "papermill": {
     "duration": 0.024456,
     "end_time": "2023-05-28T20:31:30.909127",
     "exception": false,
     "start_time": "2023-05-28T20:31:30.884671",
     "status": "completed"
    },
    "tags": []
   },
   "source": [
    "Step 1: Data Collection\n",
    "\n",
    "Gather your dataset, which should consist of labeled examples where each example has a set of features and a categorical outcome (class labels).\n",
    "Step 2: Data Preprocessing\n",
    "\n",
    "Handle missing values: Identify and deal with missing data. Depending on the nature of the problem, you can either remove rows with missing data or impute values.\n",
    "Feature selection: Choose relevant features that are likely to influence the class labels and remove irrelevant ones. Feature selection is less critical for Naive Bayes compared to some other algorithms.\n",
    "Encoding categorical variables: If your dataset contains categorical features, you may need to encode them into numerical values (e.g., one-hot encoding).\n",
    "Step 3: Data Splitting\n",
    "\n",
    "Split your dataset into two parts: a training set and a testing set. A common split is 70-80% for training and the rest for testing. This helps assess the model's performance on unseen data.\n",
    "Step 4: Model Selection\n",
    "\n",
    "Choose the Naive Bayes classifier as your classification algorithm. Naive Bayes models the probability of class labels based on input features using Bayes' theorem.\n",
    "Step 5: Model Training\n",
    "\n",
    "Train the Naive Bayes classifier using the training data. Depending on the type of Naive Bayes classifier (e.g., Gaussian Naive Bayes, Multinomial Naive Bayes, Bernoulli Naive Bayes), the training process may involve different calculations.\n",
    "Step 6: Model Evaluation\n",
    "\n",
    "Evaluate the Naive Bayes classifier's performance using appropriate metrics such as accuracy, precision, recall, F1-score, and confusion matrix on the testing dataset. These metrics provide insights into how well the model predicts the class labels.\n",
    "Step 7: Model Fine-Tuning (Optional)\n",
    "\n",
    "Naive Bayes classifiers have few hyperparameters to tune, and they are generally simple models. However, you can still perform fine-tuning by experimenting with smoothing parameters (e.g., Laplace smoothing) or other settings depending on the specific Naive Bayes variant you're using.\n",
    "Step 8: Model Interpretation (Optional)\n",
    "\n",
    "Interpreting the Naive Bayes model is less straightforward compared to linear models like logistic regression. Naive Bayes models are known for their simplicity, and they don't provide coefficients or feature importances in the same way. However, you can still analyze the probability distributions and conditional probabilities to gain some insights.\n",
    "Step 9: Prediction\n",
    "\n",
    "Use the trained Naive Bayes classifier to make predictions on new, unseen data. Be sure to preprocess the new data in the same way as your training data to ensure compatibility.\n",
    "Naive Bayes classifiers are particularly useful for text classification and categorical data, and they are known for their simplicity and efficiency. They assume that features are conditionally independent given the class, which is a simplifying assumption that may not always hold in practice. However, they can still work well in many real-world classification tasks."
   ]
  },
  {
   "cell_type": "code",
   "execution_count": 3,
   "id": "fd7e4a8c",
   "metadata": {
    "execution": {
     "iopub.execute_input": "2023-05-28T20:31:30.918083Z",
     "iopub.status.busy": "2023-05-28T20:31:30.917424Z",
     "iopub.status.idle": "2023-05-28T20:31:32.513278Z",
     "shell.execute_reply": "2023-05-28T20:31:32.512178Z"
    },
    "papermill": {
     "duration": 1.603674,
     "end_time": "2023-05-28T20:31:32.516309",
     "exception": false,
     "start_time": "2023-05-28T20:31:30.912635",
     "status": "completed"
    },
    "tags": []
   },
   "outputs": [],
   "source": [
    "import matplotlib.pyplot as plt\n",
    "import seaborn as sns\n",
    "import warnings\n",
    "warnings.filterwarnings('ignore')\n",
    "# Import necessary libraries\n",
    "import pandas as pd\n",
    "import numpy as np\n",
    "from sklearn.model_selection import train_test_split\n",
    "from sklearn.preprocessing import LabelEncoder\n",
    "from sklearn.naive_bayes import MultinomialNB, GaussianNB\n",
    "from sklearn.metrics import accuracy_score, classification_report"
   ]
  },
  {
   "cell_type": "code",
   "execution_count": 4,
   "id": "05c8b74e",
   "metadata": {
    "execution": {
     "iopub.execute_input": "2023-05-28T20:31:32.528197Z",
     "iopub.status.busy": "2023-05-28T20:31:32.527481Z",
     "iopub.status.idle": "2023-05-28T20:31:32.550737Z",
     "shell.execute_reply": "2023-05-28T20:31:32.549292Z"
    },
    "papermill": {
     "duration": 0.030985,
     "end_time": "2023-05-28T20:31:32.553167",
     "exception": false,
     "start_time": "2023-05-28T20:31:32.522182",
     "status": "completed"
    },
    "tags": []
   },
   "outputs": [],
   "source": [
    "df = pd.read_csv('dataset.csv')"
   ]
  },
  {
   "cell_type": "code",
   "execution_count": 5,
   "id": "cd629640",
   "metadata": {
    "execution": {
     "iopub.execute_input": "2023-05-28T20:31:32.561386Z",
     "iopub.status.busy": "2023-05-28T20:31:32.560947Z",
     "iopub.status.idle": "2023-05-28T20:31:32.595333Z",
     "shell.execute_reply": "2023-05-28T20:31:32.593543Z"
    },
    "papermill": {
     "duration": 0.041942,
     "end_time": "2023-05-28T20:31:32.598503",
     "exception": false,
     "start_time": "2023-05-28T20:31:32.556561",
     "status": "completed"
    },
    "tags": []
   },
   "outputs": [
    {
     "data": {
      "text/html": [
       "<div>\n",
       "<style scoped>\n",
       "    .dataframe tbody tr th:only-of-type {\n",
       "        vertical-align: middle;\n",
       "    }\n",
       "\n",
       "    .dataframe tbody tr th {\n",
       "        vertical-align: top;\n",
       "    }\n",
       "\n",
       "    .dataframe thead th {\n",
       "        text-align: right;\n",
       "    }\n",
       "</style>\n",
       "<table border=\"1\" class=\"dataframe\">\n",
       "  <thead>\n",
       "    <tr style=\"text-align: right;\">\n",
       "      <th></th>\n",
       "      <th>glucose</th>\n",
       "      <th>bloodpressure</th>\n",
       "      <th>diabetes</th>\n",
       "    </tr>\n",
       "  </thead>\n",
       "  <tbody>\n",
       "    <tr>\n",
       "      <th>0</th>\n",
       "      <td>40</td>\n",
       "      <td>85</td>\n",
       "      <td>0</td>\n",
       "    </tr>\n",
       "    <tr>\n",
       "      <th>1</th>\n",
       "      <td>40</td>\n",
       "      <td>92</td>\n",
       "      <td>0</td>\n",
       "    </tr>\n",
       "    <tr>\n",
       "      <th>2</th>\n",
       "      <td>45</td>\n",
       "      <td>63</td>\n",
       "      <td>1</td>\n",
       "    </tr>\n",
       "    <tr>\n",
       "      <th>3</th>\n",
       "      <td>45</td>\n",
       "      <td>80</td>\n",
       "      <td>0</td>\n",
       "    </tr>\n",
       "    <tr>\n",
       "      <th>4</th>\n",
       "      <td>40</td>\n",
       "      <td>73</td>\n",
       "      <td>1</td>\n",
       "    </tr>\n",
       "  </tbody>\n",
       "</table>\n",
       "</div>"
      ],
      "text/plain": [
       "   glucose  bloodpressure  diabetes\n",
       "0       40             85         0\n",
       "1       40             92         0\n",
       "2       45             63         1\n",
       "3       45             80         0\n",
       "4       40             73         1"
      ]
     },
     "execution_count": 5,
     "metadata": {},
     "output_type": "execute_result"
    }
   ],
   "source": [
    "df.head()"
   ]
  },
  {
   "cell_type": "code",
   "execution_count": 6,
   "id": "c4cceb5f",
   "metadata": {
    "execution": {
     "iopub.execute_input": "2023-05-28T20:31:32.607004Z",
     "iopub.status.busy": "2023-05-28T20:31:32.606584Z",
     "iopub.status.idle": "2023-05-28T20:31:32.614527Z",
     "shell.execute_reply": "2023-05-28T20:31:32.613125Z"
    },
    "papermill": {
     "duration": 0.014851,
     "end_time": "2023-05-28T20:31:32.616872",
     "exception": false,
     "start_time": "2023-05-28T20:31:32.602021",
     "status": "completed"
    },
    "tags": []
   },
   "outputs": [
    {
     "data": {
      "text/plain": [
       "(995, 3)"
      ]
     },
     "execution_count": 6,
     "metadata": {},
     "output_type": "execute_result"
    }
   ],
   "source": [
    "df.shape"
   ]
  },
  {
   "cell_type": "code",
   "execution_count": 7,
   "id": "a2e36380",
   "metadata": {
    "execution": {
     "iopub.execute_input": "2023-05-28T20:31:32.625376Z",
     "iopub.status.busy": "2023-05-28T20:31:32.625015Z",
     "iopub.status.idle": "2023-05-28T20:31:32.638424Z",
     "shell.execute_reply": "2023-05-28T20:31:32.637128Z"
    },
    "papermill": {
     "duration": 0.020446,
     "end_time": "2023-05-28T20:31:32.640935",
     "exception": false,
     "start_time": "2023-05-28T20:31:32.620489",
     "status": "completed"
    },
    "tags": []
   },
   "outputs": [
    {
     "data": {
      "text/plain": [
       "glucose          0\n",
       "bloodpressure    0\n",
       "diabetes         0\n",
       "dtype: int64"
      ]
     },
     "execution_count": 7,
     "metadata": {},
     "output_type": "execute_result"
    }
   ],
   "source": [
    "df.isnull().sum()"
   ]
  },
  {
   "cell_type": "code",
   "execution_count": 8,
   "id": "e6fb095e",
   "metadata": {
    "execution": {
     "iopub.execute_input": "2023-05-28T20:31:32.650176Z",
     "iopub.status.busy": "2023-05-28T20:31:32.649767Z",
     "iopub.status.idle": "2023-05-28T20:31:32.662154Z",
     "shell.execute_reply": "2023-05-28T20:31:32.661004Z"
    },
    "papermill": {
     "duration": 0.020188,
     "end_time": "2023-05-28T20:31:32.665070",
     "exception": false,
     "start_time": "2023-05-28T20:31:32.644882",
     "status": "completed"
    },
    "tags": []
   },
   "outputs": [],
   "source": [
    "x = df[['glucose','bloodpressure']]\n",
    "y = df['diabetes']"
   ]
  },
  {
   "cell_type": "code",
   "execution_count": 9,
   "id": "4f11c40b",
   "metadata": {
    "execution": {
     "iopub.execute_input": "2023-05-28T20:31:32.674152Z",
     "iopub.status.busy": "2023-05-28T20:31:32.673773Z",
     "iopub.status.idle": "2023-05-28T20:31:33.018877Z",
     "shell.execute_reply": "2023-05-28T20:31:33.017913Z"
    },
    "papermill": {
     "duration": 0.353461,
     "end_time": "2023-05-28T20:31:33.022252",
     "exception": false,
     "start_time": "2023-05-28T20:31:32.668791",
     "status": "completed"
    },
    "tags": []
   },
   "outputs": [],
   "source": [
    "from sklearn.model_selection import train_test_split\n",
    "\n",
    "x_train, x_test, y_train, y_test = train_test_split(x,y,test_size=0.2, random_state=42)"
   ]
  },
  {
   "cell_type": "code",
   "execution_count": 10,
   "id": "466c78af",
   "metadata": {
    "execution": {
     "iopub.execute_input": "2023-05-28T20:31:33.030881Z",
     "iopub.status.busy": "2023-05-28T20:31:33.030511Z",
     "iopub.status.idle": "2023-05-28T20:31:33.038467Z",
     "shell.execute_reply": "2023-05-28T20:31:33.037066Z"
    },
    "papermill": {
     "duration": 0.014947,
     "end_time": "2023-05-28T20:31:33.040972",
     "exception": false,
     "start_time": "2023-05-28T20:31:33.026025",
     "status": "completed"
    },
    "tags": []
   },
   "outputs": [
    {
     "data": {
      "text/plain": [
       "((796, 2), (199, 2))"
      ]
     },
     "execution_count": 10,
     "metadata": {},
     "output_type": "execute_result"
    }
   ],
   "source": [
    "x_train.shape, x_test.shape"
   ]
  },
  {
   "cell_type": "code",
   "execution_count": 11,
   "id": "5d3aa10d",
   "metadata": {
    "execution": {
     "iopub.execute_input": "2023-05-28T20:31:33.049554Z",
     "iopub.status.busy": "2023-05-28T20:31:33.049189Z",
     "iopub.status.idle": "2023-05-28T20:31:33.073816Z",
     "shell.execute_reply": "2023-05-28T20:31:33.072636Z"
    },
    "papermill": {
     "duration": 0.031547,
     "end_time": "2023-05-28T20:31:33.076218",
     "exception": false,
     "start_time": "2023-05-28T20:31:33.044671",
     "status": "completed"
    },
    "tags": []
   },
   "outputs": [
    {
     "data": {
      "text/html": [
       "<style>#sk-container-id-1 {color: black;background-color: white;}#sk-container-id-1 pre{padding: 0;}#sk-container-id-1 div.sk-toggleable {background-color: white;}#sk-container-id-1 label.sk-toggleable__label {cursor: pointer;display: block;width: 100%;margin-bottom: 0;padding: 0.3em;box-sizing: border-box;text-align: center;}#sk-container-id-1 label.sk-toggleable__label-arrow:before {content: \"▸\";float: left;margin-right: 0.25em;color: #696969;}#sk-container-id-1 label.sk-toggleable__label-arrow:hover:before {color: black;}#sk-container-id-1 div.sk-estimator:hover label.sk-toggleable__label-arrow:before {color: black;}#sk-container-id-1 div.sk-toggleable__content {max-height: 0;max-width: 0;overflow: hidden;text-align: left;background-color: #f0f8ff;}#sk-container-id-1 div.sk-toggleable__content pre {margin: 0.2em;color: black;border-radius: 0.25em;background-color: #f0f8ff;}#sk-container-id-1 input.sk-toggleable__control:checked~div.sk-toggleable__content {max-height: 200px;max-width: 100%;overflow: auto;}#sk-container-id-1 input.sk-toggleable__control:checked~label.sk-toggleable__label-arrow:before {content: \"▾\";}#sk-container-id-1 div.sk-estimator input.sk-toggleable__control:checked~label.sk-toggleable__label {background-color: #d4ebff;}#sk-container-id-1 div.sk-label input.sk-toggleable__control:checked~label.sk-toggleable__label {background-color: #d4ebff;}#sk-container-id-1 input.sk-hidden--visually {border: 0;clip: rect(1px 1px 1px 1px);clip: rect(1px, 1px, 1px, 1px);height: 1px;margin: -1px;overflow: hidden;padding: 0;position: absolute;width: 1px;}#sk-container-id-1 div.sk-estimator {font-family: monospace;background-color: #f0f8ff;border: 1px dotted black;border-radius: 0.25em;box-sizing: border-box;margin-bottom: 0.5em;}#sk-container-id-1 div.sk-estimator:hover {background-color: #d4ebff;}#sk-container-id-1 div.sk-parallel-item::after {content: \"\";width: 100%;border-bottom: 1px solid gray;flex-grow: 1;}#sk-container-id-1 div.sk-label:hover label.sk-toggleable__label {background-color: #d4ebff;}#sk-container-id-1 div.sk-serial::before {content: \"\";position: absolute;border-left: 1px solid gray;box-sizing: border-box;top: 0;bottom: 0;left: 50%;z-index: 0;}#sk-container-id-1 div.sk-serial {display: flex;flex-direction: column;align-items: center;background-color: white;padding-right: 0.2em;padding-left: 0.2em;position: relative;}#sk-container-id-1 div.sk-item {position: relative;z-index: 1;}#sk-container-id-1 div.sk-parallel {display: flex;align-items: stretch;justify-content: center;background-color: white;position: relative;}#sk-container-id-1 div.sk-item::before, #sk-container-id-1 div.sk-parallel-item::before {content: \"\";position: absolute;border-left: 1px solid gray;box-sizing: border-box;top: 0;bottom: 0;left: 50%;z-index: -1;}#sk-container-id-1 div.sk-parallel-item {display: flex;flex-direction: column;z-index: 1;position: relative;background-color: white;}#sk-container-id-1 div.sk-parallel-item:first-child::after {align-self: flex-end;width: 50%;}#sk-container-id-1 div.sk-parallel-item:last-child::after {align-self: flex-start;width: 50%;}#sk-container-id-1 div.sk-parallel-item:only-child::after {width: 0;}#sk-container-id-1 div.sk-dashed-wrapped {border: 1px dashed gray;margin: 0 0.4em 0.5em 0.4em;box-sizing: border-box;padding-bottom: 0.4em;background-color: white;}#sk-container-id-1 div.sk-label label {font-family: monospace;font-weight: bold;display: inline-block;line-height: 1.2em;}#sk-container-id-1 div.sk-label-container {text-align: center;}#sk-container-id-1 div.sk-container {/* jupyter's `normalize.less` sets `[hidden] { display: none; }` but bootstrap.min.css set `[hidden] { display: none !important; }` so we also need the `!important` here to be able to override the default hidden behavior on the sphinx rendered scikit-learn.org. See: https://github.com/scikit-learn/scikit-learn/issues/21755 */display: inline-block !important;position: relative;}#sk-container-id-1 div.sk-text-repr-fallback {display: none;}</style><div id=\"sk-container-id-1\" class=\"sk-top-container\"><div class=\"sk-text-repr-fallback\"><pre>GaussianNB()</pre><b>In a Jupyter environment, please rerun this cell to show the HTML representation or trust the notebook. <br />On GitHub, the HTML representation is unable to render, please try loading this page with nbviewer.org.</b></div><div class=\"sk-container\" hidden><div class=\"sk-item\"><div class=\"sk-estimator sk-toggleable\"><input class=\"sk-toggleable__control sk-hidden--visually\" id=\"sk-estimator-id-1\" type=\"checkbox\" checked><label for=\"sk-estimator-id-1\" class=\"sk-toggleable__label sk-toggleable__label-arrow\">GaussianNB</label><div class=\"sk-toggleable__content\"><pre>GaussianNB()</pre></div></div></div></div></div>"
      ],
      "text/plain": [
       "GaussianNB()"
      ]
     },
     "execution_count": 11,
     "metadata": {},
     "output_type": "execute_result"
    }
   ],
   "source": [
    "from sklearn.naive_bayes import GaussianNB\n",
    "\n",
    "model = GaussianNB()\n",
    "\n",
    "model.fit(x_train, y_train)"
   ]
  },
  {
   "cell_type": "code",
   "execution_count": 12,
   "id": "743865d6",
   "metadata": {
    "execution": {
     "iopub.execute_input": "2023-05-28T20:31:33.086687Z",
     "iopub.status.busy": "2023-05-28T20:31:33.086333Z",
     "iopub.status.idle": "2023-05-28T20:31:33.094714Z",
     "shell.execute_reply": "2023-05-28T20:31:33.093870Z"
    },
    "papermill": {
     "duration": 0.01476,
     "end_time": "2023-05-28T20:31:33.096370",
     "exception": false,
     "start_time": "2023-05-28T20:31:33.081610",
     "status": "completed"
    },
    "tags": []
   },
   "outputs": [
    {
     "data": {
      "text/plain": [
       "0.9296482412060302"
      ]
     },
     "execution_count": 12,
     "metadata": {},
     "output_type": "execute_result"
    }
   ],
   "source": [
    "# Score\n",
    "model.score(x_test, y_test)"
   ]
  },
  {
   "cell_type": "code",
   "execution_count": null,
   "id": "1d91ce50",
   "metadata": {
    "papermill": {
     "duration": 0.003474,
     "end_time": "2023-05-28T20:31:33.103713",
     "exception": false,
     "start_time": "2023-05-28T20:31:33.100239",
     "status": "completed"
    },
    "tags": []
   },
   "outputs": [],
   "source": []
  },
  {
   "cell_type": "code",
   "execution_count": null,
   "id": "41c652c2",
   "metadata": {},
   "outputs": [],
   "source": []
  }
 ],
 "metadata": {
  "kernelspec": {
   "display_name": "Python 3 (ipykernel)",
   "language": "python",
   "name": "python3"
  },
  "language_info": {
   "codemirror_mode": {
    "name": "ipython",
    "version": 3
   },
   "file_extension": ".py",
   "mimetype": "text/x-python",
   "name": "python",
   "nbconvert_exporter": "python",
   "pygments_lexer": "ipython3",
   "version": "3.10.9"
  },
  "papermill": {
   "default_parameters": {},
   "duration": 13.584688,
   "end_time": "2023-05-28T20:31:34.130191",
   "environment_variables": {},
   "exception": null,
   "input_path": "__notebook__.ipynb",
   "output_path": "__notebook__.ipynb",
   "parameters": {},
   "start_time": "2023-05-28T20:31:20.545503",
   "version": "2.4.0"
  }
 },
 "nbformat": 4,
 "nbformat_minor": 5
}
